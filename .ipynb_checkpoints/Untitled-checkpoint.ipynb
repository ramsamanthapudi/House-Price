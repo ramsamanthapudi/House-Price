{
 "cells": [
  {
   "cell_type": "code",
   "execution_count": 1,
   "id": "604b1786",
   "metadata": {},
   "outputs": [],
   "source": [
    "# House Price Prediction to predict the house price in india."
   ]
  },
  {
   "cell_type": "code",
   "execution_count": 2,
   "id": "6bc1cdc1",
   "metadata": {},
   "outputs": [],
   "source": [
    "#Import the required libraries."
   ]
  },
  {
   "cell_type": "code",
   "execution_count": 56,
   "id": "158bd485",
   "metadata": {},
   "outputs": [],
   "source": [
    "import pandas as pd\n",
    "import numpy as np\n",
    "import matplotlib.pyplot as plt\n",
    "import seaborn as sb"
   ]
  },
  {
   "cell_type": "code",
   "execution_count": 57,
   "id": "f551489d",
   "metadata": {},
   "outputs": [],
   "source": [
    "# Read the train dataset."
   ]
  },
  {
   "cell_type": "code",
   "execution_count": 58,
   "id": "89264169",
   "metadata": {},
   "outputs": [],
   "source": [
    "train = pd.read_csv('train.csv')"
   ]
  },
  {
   "cell_type": "markdown",
   "id": "79c7de95",
   "metadata": {},
   "source": [
    "Exploratory Data Analysis"
   ]
  },
  {
   "cell_type": "code",
   "execution_count": 59,
   "id": "29587a4c",
   "metadata": {},
   "outputs": [
    {
     "data": {
      "text/html": [
       "<div>\n",
       "<style scoped>\n",
       "    .dataframe tbody tr th:only-of-type {\n",
       "        vertical-align: middle;\n",
       "    }\n",
       "\n",
       "    .dataframe tbody tr th {\n",
       "        vertical-align: top;\n",
       "    }\n",
       "\n",
       "    .dataframe thead th {\n",
       "        text-align: right;\n",
       "    }\n",
       "</style>\n",
       "<table border=\"1\" class=\"dataframe\">\n",
       "  <thead>\n",
       "    <tr style=\"text-align: right;\">\n",
       "      <th></th>\n",
       "      <th>POSTED_BY</th>\n",
       "      <th>UNDER_CONSTRUCTION</th>\n",
       "      <th>RERA</th>\n",
       "      <th>BHK_NO.</th>\n",
       "      <th>BHK_OR_RK</th>\n",
       "      <th>SQUARE_FT</th>\n",
       "      <th>READY_TO_MOVE</th>\n",
       "      <th>RESALE</th>\n",
       "      <th>ADDRESS</th>\n",
       "      <th>LONGITUDE</th>\n",
       "      <th>LATITUDE</th>\n",
       "      <th>TARGET(PRICE_IN_LACS)</th>\n",
       "    </tr>\n",
       "  </thead>\n",
       "  <tbody>\n",
       "    <tr>\n",
       "      <th>0</th>\n",
       "      <td>Owner</td>\n",
       "      <td>0</td>\n",
       "      <td>0</td>\n",
       "      <td>2</td>\n",
       "      <td>BHK</td>\n",
       "      <td>1300.236407</td>\n",
       "      <td>1</td>\n",
       "      <td>1</td>\n",
       "      <td>Ksfc Layout,Bangalore</td>\n",
       "      <td>12.969910</td>\n",
       "      <td>77.597960</td>\n",
       "      <td>55.0</td>\n",
       "    </tr>\n",
       "    <tr>\n",
       "      <th>1</th>\n",
       "      <td>Dealer</td>\n",
       "      <td>0</td>\n",
       "      <td>0</td>\n",
       "      <td>2</td>\n",
       "      <td>BHK</td>\n",
       "      <td>1275.000000</td>\n",
       "      <td>1</td>\n",
       "      <td>1</td>\n",
       "      <td>Vishweshwara Nagar,Mysore</td>\n",
       "      <td>12.274538</td>\n",
       "      <td>76.644605</td>\n",
       "      <td>51.0</td>\n",
       "    </tr>\n",
       "    <tr>\n",
       "      <th>2</th>\n",
       "      <td>Owner</td>\n",
       "      <td>0</td>\n",
       "      <td>0</td>\n",
       "      <td>2</td>\n",
       "      <td>BHK</td>\n",
       "      <td>933.159722</td>\n",
       "      <td>1</td>\n",
       "      <td>1</td>\n",
       "      <td>Jigani,Bangalore</td>\n",
       "      <td>12.778033</td>\n",
       "      <td>77.632191</td>\n",
       "      <td>43.0</td>\n",
       "    </tr>\n",
       "    <tr>\n",
       "      <th>3</th>\n",
       "      <td>Owner</td>\n",
       "      <td>0</td>\n",
       "      <td>1</td>\n",
       "      <td>2</td>\n",
       "      <td>BHK</td>\n",
       "      <td>929.921143</td>\n",
       "      <td>1</td>\n",
       "      <td>1</td>\n",
       "      <td>Sector-1 Vaishali,Ghaziabad</td>\n",
       "      <td>28.642300</td>\n",
       "      <td>77.344500</td>\n",
       "      <td>62.5</td>\n",
       "    </tr>\n",
       "    <tr>\n",
       "      <th>4</th>\n",
       "      <td>Dealer</td>\n",
       "      <td>1</td>\n",
       "      <td>0</td>\n",
       "      <td>2</td>\n",
       "      <td>BHK</td>\n",
       "      <td>999.009247</td>\n",
       "      <td>0</td>\n",
       "      <td>1</td>\n",
       "      <td>New Town,Kolkata</td>\n",
       "      <td>22.592200</td>\n",
       "      <td>88.484911</td>\n",
       "      <td>60.5</td>\n",
       "    </tr>\n",
       "  </tbody>\n",
       "</table>\n",
       "</div>"
      ],
      "text/plain": [
       "  POSTED_BY  UNDER_CONSTRUCTION  RERA  BHK_NO. BHK_OR_RK    SQUARE_FT  \\\n",
       "0     Owner                   0     0        2       BHK  1300.236407   \n",
       "1    Dealer                   0     0        2       BHK  1275.000000   \n",
       "2     Owner                   0     0        2       BHK   933.159722   \n",
       "3     Owner                   0     1        2       BHK   929.921143   \n",
       "4    Dealer                   1     0        2       BHK   999.009247   \n",
       "\n",
       "   READY_TO_MOVE  RESALE                      ADDRESS  LONGITUDE   LATITUDE  \\\n",
       "0              1       1        Ksfc Layout,Bangalore  12.969910  77.597960   \n",
       "1              1       1    Vishweshwara Nagar,Mysore  12.274538  76.644605   \n",
       "2              1       1             Jigani,Bangalore  12.778033  77.632191   \n",
       "3              1       1  Sector-1 Vaishali,Ghaziabad  28.642300  77.344500   \n",
       "4              0       1             New Town,Kolkata  22.592200  88.484911   \n",
       "\n",
       "   TARGET(PRICE_IN_LACS)  \n",
       "0                   55.0  \n",
       "1                   51.0  \n",
       "2                   43.0  \n",
       "3                   62.5  \n",
       "4                   60.5  "
      ]
     },
     "execution_count": 59,
     "metadata": {},
     "output_type": "execute_result"
    }
   ],
   "source": [
    "train.head()"
   ]
  },
  {
   "cell_type": "code",
   "execution_count": 7,
   "id": "7d3c3019",
   "metadata": {},
   "outputs": [
    {
     "name": "stdout",
     "output_type": "stream",
     "text": [
      "<class 'pandas.core.frame.DataFrame'>\n",
      "RangeIndex: 29451 entries, 0 to 29450\n",
      "Data columns (total 12 columns):\n",
      " #   Column                 Non-Null Count  Dtype  \n",
      "---  ------                 --------------  -----  \n",
      " 0   POSTED_BY              29451 non-null  object \n",
      " 1   UNDER_CONSTRUCTION     29451 non-null  int64  \n",
      " 2   RERA                   29451 non-null  int64  \n",
      " 3   BHK_NO.                29451 non-null  int64  \n",
      " 4   BHK_OR_RK              29451 non-null  object \n",
      " 5   SQUARE_FT              29451 non-null  float64\n",
      " 6   READY_TO_MOVE          29451 non-null  int64  \n",
      " 7   RESALE                 29451 non-null  int64  \n",
      " 8   ADDRESS                29451 non-null  object \n",
      " 9   LONGITUDE              29451 non-null  float64\n",
      " 10  LATITUDE               29451 non-null  float64\n",
      " 11  TARGET(PRICE_IN_LACS)  29451 non-null  float64\n",
      "dtypes: float64(4), int64(5), object(3)\n",
      "memory usage: 2.7+ MB\n"
     ]
    }
   ],
   "source": [
    "train.info()"
   ]
  },
  {
   "cell_type": "markdown",
   "id": "17bda9e9",
   "metadata": {},
   "source": [
    "No Null values in the data."
   ]
  },
  {
   "cell_type": "code",
   "execution_count": 60,
   "id": "0fc23df9",
   "metadata": {},
   "outputs": [
    {
     "data": {
      "text/html": [
       "<div>\n",
       "<style scoped>\n",
       "    .dataframe tbody tr th:only-of-type {\n",
       "        vertical-align: middle;\n",
       "    }\n",
       "\n",
       "    .dataframe tbody tr th {\n",
       "        vertical-align: top;\n",
       "    }\n",
       "\n",
       "    .dataframe thead th {\n",
       "        text-align: right;\n",
       "    }\n",
       "</style>\n",
       "<table border=\"1\" class=\"dataframe\">\n",
       "  <thead>\n",
       "    <tr style=\"text-align: right;\">\n",
       "      <th></th>\n",
       "      <th>UNDER_CONSTRUCTION</th>\n",
       "      <th>RERA</th>\n",
       "      <th>BHK_NO.</th>\n",
       "      <th>SQUARE_FT</th>\n",
       "      <th>READY_TO_MOVE</th>\n",
       "      <th>RESALE</th>\n",
       "      <th>LONGITUDE</th>\n",
       "      <th>LATITUDE</th>\n",
       "      <th>TARGET(PRICE_IN_LACS)</th>\n",
       "    </tr>\n",
       "  </thead>\n",
       "  <tbody>\n",
       "    <tr>\n",
       "      <th>count</th>\n",
       "      <td>29451.000000</td>\n",
       "      <td>29451.000000</td>\n",
       "      <td>29451.000000</td>\n",
       "      <td>2.945100e+04</td>\n",
       "      <td>29451.000000</td>\n",
       "      <td>29451.000000</td>\n",
       "      <td>29451.000000</td>\n",
       "      <td>29451.000000</td>\n",
       "      <td>29451.000000</td>\n",
       "    </tr>\n",
       "    <tr>\n",
       "      <th>mean</th>\n",
       "      <td>0.179756</td>\n",
       "      <td>0.317918</td>\n",
       "      <td>2.392279</td>\n",
       "      <td>1.980217e+04</td>\n",
       "      <td>0.820244</td>\n",
       "      <td>0.929578</td>\n",
       "      <td>21.300255</td>\n",
       "      <td>76.837695</td>\n",
       "      <td>142.898746</td>\n",
       "    </tr>\n",
       "    <tr>\n",
       "      <th>std</th>\n",
       "      <td>0.383991</td>\n",
       "      <td>0.465675</td>\n",
       "      <td>0.879091</td>\n",
       "      <td>1.901335e+06</td>\n",
       "      <td>0.383991</td>\n",
       "      <td>0.255861</td>\n",
       "      <td>6.205306</td>\n",
       "      <td>10.557747</td>\n",
       "      <td>656.880713</td>\n",
       "    </tr>\n",
       "    <tr>\n",
       "      <th>min</th>\n",
       "      <td>0.000000</td>\n",
       "      <td>0.000000</td>\n",
       "      <td>1.000000</td>\n",
       "      <td>3.000000e+00</td>\n",
       "      <td>0.000000</td>\n",
       "      <td>0.000000</td>\n",
       "      <td>-37.713008</td>\n",
       "      <td>-121.761248</td>\n",
       "      <td>0.250000</td>\n",
       "    </tr>\n",
       "    <tr>\n",
       "      <th>25%</th>\n",
       "      <td>0.000000</td>\n",
       "      <td>0.000000</td>\n",
       "      <td>2.000000</td>\n",
       "      <td>9.000211e+02</td>\n",
       "      <td>1.000000</td>\n",
       "      <td>1.000000</td>\n",
       "      <td>18.452663</td>\n",
       "      <td>73.798100</td>\n",
       "      <td>38.000000</td>\n",
       "    </tr>\n",
       "    <tr>\n",
       "      <th>50%</th>\n",
       "      <td>0.000000</td>\n",
       "      <td>0.000000</td>\n",
       "      <td>2.000000</td>\n",
       "      <td>1.175057e+03</td>\n",
       "      <td>1.000000</td>\n",
       "      <td>1.000000</td>\n",
       "      <td>20.750000</td>\n",
       "      <td>77.324137</td>\n",
       "      <td>62.000000</td>\n",
       "    </tr>\n",
       "    <tr>\n",
       "      <th>75%</th>\n",
       "      <td>0.000000</td>\n",
       "      <td>1.000000</td>\n",
       "      <td>3.000000</td>\n",
       "      <td>1.550688e+03</td>\n",
       "      <td>1.000000</td>\n",
       "      <td>1.000000</td>\n",
       "      <td>26.900926</td>\n",
       "      <td>77.828740</td>\n",
       "      <td>100.000000</td>\n",
       "    </tr>\n",
       "    <tr>\n",
       "      <th>max</th>\n",
       "      <td>1.000000</td>\n",
       "      <td>1.000000</td>\n",
       "      <td>20.000000</td>\n",
       "      <td>2.545455e+08</td>\n",
       "      <td>1.000000</td>\n",
       "      <td>1.000000</td>\n",
       "      <td>59.912884</td>\n",
       "      <td>152.962676</td>\n",
       "      <td>30000.000000</td>\n",
       "    </tr>\n",
       "  </tbody>\n",
       "</table>\n",
       "</div>"
      ],
      "text/plain": [
       "       UNDER_CONSTRUCTION          RERA       BHK_NO.     SQUARE_FT  \\\n",
       "count        29451.000000  29451.000000  29451.000000  2.945100e+04   \n",
       "mean             0.179756      0.317918      2.392279  1.980217e+04   \n",
       "std              0.383991      0.465675      0.879091  1.901335e+06   \n",
       "min              0.000000      0.000000      1.000000  3.000000e+00   \n",
       "25%              0.000000      0.000000      2.000000  9.000211e+02   \n",
       "50%              0.000000      0.000000      2.000000  1.175057e+03   \n",
       "75%              0.000000      1.000000      3.000000  1.550688e+03   \n",
       "max              1.000000      1.000000     20.000000  2.545455e+08   \n",
       "\n",
       "       READY_TO_MOVE        RESALE     LONGITUDE      LATITUDE  \\\n",
       "count   29451.000000  29451.000000  29451.000000  29451.000000   \n",
       "mean        0.820244      0.929578     21.300255     76.837695   \n",
       "std         0.383991      0.255861      6.205306     10.557747   \n",
       "min         0.000000      0.000000    -37.713008   -121.761248   \n",
       "25%         1.000000      1.000000     18.452663     73.798100   \n",
       "50%         1.000000      1.000000     20.750000     77.324137   \n",
       "75%         1.000000      1.000000     26.900926     77.828740   \n",
       "max         1.000000      1.000000     59.912884    152.962676   \n",
       "\n",
       "       TARGET(PRICE_IN_LACS)  \n",
       "count           29451.000000  \n",
       "mean              142.898746  \n",
       "std               656.880713  \n",
       "min                 0.250000  \n",
       "25%                38.000000  \n",
       "50%                62.000000  \n",
       "75%               100.000000  \n",
       "max             30000.000000  "
      ]
     },
     "execution_count": 60,
     "metadata": {},
     "output_type": "execute_result"
    }
   ],
   "source": [
    "train.describe()"
   ]
  },
  {
   "cell_type": "markdown",
   "id": "ef8fae42",
   "metadata": {},
   "source": [
    "Initial findings bhk having some outliers, will check for outliers."
   ]
  },
  {
   "cell_type": "markdown",
   "id": "7ae6ee0e",
   "metadata": {},
   "source": [
    "As Square_ft,target in different units, will take the log of those values or will do MinMax Scaler."
   ]
  },
  {
   "cell_type": "code",
   "execution_count": 68,
   "id": "d28c192a",
   "metadata": {},
   "outputs": [
    {
     "name": "stdout",
     "output_type": "stream",
     "text": [
      "UNDER_CONSTRUCTION\n"
     ]
    },
    {
     "data": {
      "image/png": "[encoded data removed]",
      "text/plain": [
       "<Figure size 432x288 with 1 Axes>"
      ]
     },
     "metadata": {
      "needs_background": "light"
     },
     "output_type": "display_data"
    },
    {
     "name": "stdout",
     "output_type": "stream",
     "text": [
      "RERA\n"
     ]
    },
    {
     "data": {
      "image/png": "[encoded data removed]",
      "text/plain": [
       "<Figure size 432x288 with 1 Axes>"
      ]
     },
     "metadata": {
      "needs_background": "light"
     },
     "output_type": "display_data"
    },
    {
     "name": "stdout",
     "output_type": "stream",
     "text": [
      "BHK_NO.\n"
     ]
    },
    {
     "data": {
      "image/png": "[encoded data removed]",
      "text/plain": [
       "<Figure size 432x288 with 1 Axes>"
      ]
     },
     "metadata": {
      "needs_background": "light"
     },
     "output_type": "display_data"
    },
    {
     "name": "stdout",
     "output_type": "stream",
     "text": [
      "SQUARE_FT\n"
     ]
    },
    {
     "data": {
      "image/png": "[encoded data removed]",
      "text/plain": [
       "<Figure size 432x288 with 1 Axes>"
      ]
     },
     "metadata": {
      "needs_background": "light"
     },
     "output_type": "display_data"
    },
    {
     "name": "stdout",
     "output_type": "stream",
     "text": [
      "READY_TO_MOVE\n"
     ]
    },
    {
     "data": {
      "image/png": "[encoded data removed]",
      "text/plain": [
       "<Figure size 432x288 with 1 Axes>"
      ]
     },
     "metadata": {
      "needs_background": "light"
     },
     "output_type": "display_data"
    },
    {
     "name": "stdout",
     "output_type": "stream",
     "text": [
      "RESALE\n"
     ]
    },
    {
     "data": {
      "image/png": "[encoded data removed]",
      "text/plain": [
       "<Figure size 432x288 with 1 Axes>"
      ]
     },
     "metadata": {
      "needs_background": "light"
     },
     "output_type": "display_data"
    },
    {
     "name": "stdout",
     "output_type": "stream",
     "text": [
      "LONGITUDE\n"
     ]
    },
    {
     "data": {
      "image/png": "[encoded data removed]",
      "text/plain": [
       "<Figure size 432x288 with 1 Axes>"
      ]
     },
     "metadata": {
      "needs_background": "light"
     },
     "output_type": "display_data"
    },
    {
     "name": "stdout",
     "output_type": "stream",
     "text": [
      "LATITUDE\n"
     ]
    },
    {
     "data": {
      "image/png": "[encoded data removed]",
      "text/plain": [
       "<Figure size 432x288 with 1 Axes>"
      ]
     },
     "metadata": {
      "needs_background": "light"
     },
     "output_type": "display_data"
    },
    {
     "name": "stdout",
     "output_type": "stream",
     "text": [
      "TARGET(PRICE_IN_LACS)\n"
     ]
    },
    {
     "data": {
      "image/png": "[encoded data removed]",
      "text/plain": [
       "<Figure size 432x288 with 1 Axes>"
      ]
     },
     "metadata": {
      "needs_background": "light"
     },
     "output_type": "display_data"
    }
   ],
   "source": [
    "for i in train.columns:\n",
    "    if train[i].dtype!='O':\n",
    "        print(i)\n",
    "        plt.hist(train[i])\n",
    "        plt.show()"
   ]
  },
  {
   "cell_type": "code",
   "execution_count": 89,
   "id": "be315137",
   "metadata": {},
   "outputs": [
    {
     "data": {
      "text/plain": [
       "<AxesSubplot:xlabel='TARGET(PRICE_IN_LACS)', ylabel='Count'>"
      ]
     },
     "execution_count": 89,
     "metadata": {},
     "output_type": "execute_result"
    },
    {
     "data": {
      "image/png": "[encoded data removed]",
      "text/plain": [
       "<Figure size 432x288 with 1 Axes>"
      ]
     },
     "metadata": {
      "needs_background": "light"
     },
     "output_type": "display_data"
    }
   ],
   "source": [
    "sb.histplot(train['TARGET(PRICE_IN_LACS)'],bins=30,kde=True)\n",
    "sb.histplot(np.log(train['TARGET(PRICE_IN_LACS)']),bins=30) # Right skewed."
   ]
  },
  {
   "cell_type": "code",
   "execution_count": 90,
   "id": "85224756",
   "metadata": {},
   "outputs": [
    {
     "data": {
      "text/plain": [
       "<AxesSubplot:xlabel='SQUARE_FT', ylabel='Count'>"
      ]
     },
     "execution_count": 90,
     "metadata": {},
     "output_type": "execute_result"
    },
    {
     "data": {
      "image/png": "[encoded data removed]",
      "text/plain": [
       "<Figure size 432x288 with 1 Axes>"
      ]
     },
     "metadata": {
      "needs_background": "light"
     },
     "output_type": "display_data"
    }
   ],
   "source": [
    "sb.histplot(train['SQUARE_FT'],bins=30,kde=True) # Right skewed."
   ]
  },
  {
   "cell_type": "markdown",
   "id": "83b5ffb0",
   "metadata": {},
   "source": [
    "Square feet and bhk no. are not matching, Dealing with those features."
   ]
  },
  {
   "cell_type": "code",
   "execution_count": 10,
   "id": "d9d8c0f0",
   "metadata": {},
   "outputs": [
    {
     "name": "stdout",
     "output_type": "stream",
     "text": [
      "BHK_NO.\n",
      "1      3574\n",
      "2     13324\n",
      "3     10546\n",
      "4      1723\n",
      "5       190\n",
      "6        52\n",
      "7        11\n",
      "8        10\n",
      "9         3\n",
      "10        4\n",
      "11        1\n",
      "12        3\n",
      "13        1\n",
      "15        4\n",
      "17        1\n",
      "20        4\n",
      "Name: TARGET(PRICE_IN_LACS), dtype: int64\n"
     ]
    },
    {
     "data": {
      "text/plain": [
       "[<matplotlib.lines.Line2D at 0x211a74ac2e0>]"
      ]
     },
     "execution_count": 10,
     "metadata": {},
     "output_type": "execute_result"
    },
    {
     "data": {
      "image/png": "[encoded data removed]",
      "text/plain": [
       "<Figure size 432x288 with 1 Axes>"
      ]
     },
     "metadata": {
      "needs_background": "light"
     },
     "output_type": "display_data"
    }
   ],
   "source": [
    "print(train.groupby('BHK_NO.')['TARGET(PRICE_IN_LACS)'].count())\n",
    "plt.plot(train.groupby('BHK_NO.')['TARGET(PRICE_IN_LACS)'].count())"
   ]
  },
  {
   "cell_type": "markdown",
   "id": "5ff22167",
   "metadata": {},
   "source": [
    "Only 94 records having bhk > 5 , could be outliers !!"
   ]
  },
  {
   "cell_type": "code",
   "execution_count": 11,
   "id": "d4e55310",
   "metadata": {},
   "outputs": [
    {
     "data": {
      "text/html": [
       "<div>\n",
       "<style scoped>\n",
       "    .dataframe tbody tr th:only-of-type {\n",
       "        vertical-align: middle;\n",
       "    }\n",
       "\n",
       "    .dataframe tbody tr th {\n",
       "        vertical-align: top;\n",
       "    }\n",
       "\n",
       "    .dataframe thead th {\n",
       "        text-align: right;\n",
       "    }\n",
       "</style>\n",
       "<table border=\"1\" class=\"dataframe\">\n",
       "  <thead>\n",
       "    <tr style=\"text-align: right;\">\n",
       "      <th></th>\n",
       "      <th>POSTED_BY</th>\n",
       "      <th>UNDER_CONSTRUCTION</th>\n",
       "      <th>RERA</th>\n",
       "      <th>BHK_NO.</th>\n",
       "      <th>BHK_OR_RK</th>\n",
       "      <th>SQUARE_FT</th>\n",
       "      <th>READY_TO_MOVE</th>\n",
       "      <th>RESALE</th>\n",
       "      <th>ADDRESS</th>\n",
       "      <th>LONGITUDE</th>\n",
       "      <th>LATITUDE</th>\n",
       "      <th>TARGET(PRICE_IN_LACS)</th>\n",
       "    </tr>\n",
       "  </thead>\n",
       "  <tbody>\n",
       "    <tr>\n",
       "      <th>2215</th>\n",
       "      <td>Owner</td>\n",
       "      <td>0</td>\n",
       "      <td>0</td>\n",
       "      <td>12</td>\n",
       "      <td>BHK</td>\n",
       "      <td>6373.486297</td>\n",
       "      <td>1</td>\n",
       "      <td>1</td>\n",
       "      <td>Ashok Nagar , Kalapatti, Coimbatore District,C...</td>\n",
       "      <td>11.086274</td>\n",
       "      <td>77.033799</td>\n",
       "      <td>200.0</td>\n",
       "    </tr>\n",
       "    <tr>\n",
       "      <th>3466</th>\n",
       "      <td>Owner</td>\n",
       "      <td>0</td>\n",
       "      <td>0</td>\n",
       "      <td>20</td>\n",
       "      <td>BHK</td>\n",
       "      <td>348.863897</td>\n",
       "      <td>1</td>\n",
       "      <td>1</td>\n",
       "      <td>Rat,Ratnagiri</td>\n",
       "      <td>16.983330</td>\n",
       "      <td>73.300000</td>\n",
       "      <td>15.2</td>\n",
       "    </tr>\n",
       "    <tr>\n",
       "      <th>8872</th>\n",
       "      <td>Dealer</td>\n",
       "      <td>0</td>\n",
       "      <td>0</td>\n",
       "      <td>13</td>\n",
       "      <td>BHK</td>\n",
       "      <td>10460.251050</td>\n",
       "      <td>1</td>\n",
       "      <td>1</td>\n",
       "      <td>Bagalur,Bangalore</td>\n",
       "      <td>13.143933</td>\n",
       "      <td>77.667304</td>\n",
       "      <td>500.0</td>\n",
       "    </tr>\n",
       "    <tr>\n",
       "      <th>13440</th>\n",
       "      <td>Owner</td>\n",
       "      <td>0</td>\n",
       "      <td>0</td>\n",
       "      <td>17</td>\n",
       "      <td>BHK</td>\n",
       "      <td>11000.343760</td>\n",
       "      <td>1</td>\n",
       "      <td>1</td>\n",
       "      <td>Karanodai,Chennai</td>\n",
       "      <td>13.252330</td>\n",
       "      <td>80.163376</td>\n",
       "      <td>320.0</td>\n",
       "    </tr>\n",
       "    <tr>\n",
       "      <th>16278</th>\n",
       "      <td>Owner</td>\n",
       "      <td>0</td>\n",
       "      <td>0</td>\n",
       "      <td>15</td>\n",
       "      <td>BHK</td>\n",
       "      <td>3000.107147</td>\n",
       "      <td>1</td>\n",
       "      <td>1</td>\n",
       "      <td>Jharapada,Bhubaneswar</td>\n",
       "      <td>20.275267</td>\n",
       "      <td>85.862407</td>\n",
       "      <td>280.0</td>\n",
       "    </tr>\n",
       "    <tr>\n",
       "      <th>16397</th>\n",
       "      <td>Owner</td>\n",
       "      <td>0</td>\n",
       "      <td>0</td>\n",
       "      <td>11</td>\n",
       "      <td>BHK</td>\n",
       "      <td>4000.000000</td>\n",
       "      <td>1</td>\n",
       "      <td>1</td>\n",
       "      <td>Jaipur road,Bikaner</td>\n",
       "      <td>28.863593</td>\n",
       "      <td>74.048835</td>\n",
       "      <td>55.0</td>\n",
       "    </tr>\n",
       "    <tr>\n",
       "      <th>16429</th>\n",
       "      <td>Owner</td>\n",
       "      <td>0</td>\n",
       "      <td>0</td>\n",
       "      <td>15</td>\n",
       "      <td>BHK</td>\n",
       "      <td>15001.153930</td>\n",
       "      <td>1</td>\n",
       "      <td>1</td>\n",
       "      <td>Laggere,Bangalore</td>\n",
       "      <td>13.008595</td>\n",
       "      <td>77.523704</td>\n",
       "      <td>650.0</td>\n",
       "    </tr>\n",
       "    <tr>\n",
       "      <th>17160</th>\n",
       "      <td>Owner</td>\n",
       "      <td>1</td>\n",
       "      <td>0</td>\n",
       "      <td>12</td>\n",
       "      <td>BHK</td>\n",
       "      <td>4570.848146</td>\n",
       "      <td>0</td>\n",
       "      <td>1</td>\n",
       "      <td>Vilankurichi,Coimbatore</td>\n",
       "      <td>11.074387</td>\n",
       "      <td>77.018510</td>\n",
       "      <td>180.0</td>\n",
       "    </tr>\n",
       "    <tr>\n",
       "      <th>19425</th>\n",
       "      <td>Owner</td>\n",
       "      <td>0</td>\n",
       "      <td>0</td>\n",
       "      <td>12</td>\n",
       "      <td>BHK</td>\n",
       "      <td>4824.561404</td>\n",
       "      <td>1</td>\n",
       "      <td>1</td>\n",
       "      <td>Factory circle bashettalli,Bangalore</td>\n",
       "      <td>21.000000</td>\n",
       "      <td>77.000000</td>\n",
       "      <td>110.0</td>\n",
       "    </tr>\n",
       "    <tr>\n",
       "      <th>20745</th>\n",
       "      <td>Owner</td>\n",
       "      <td>1</td>\n",
       "      <td>0</td>\n",
       "      <td>20</td>\n",
       "      <td>BHK</td>\n",
       "      <td>7000.000000</td>\n",
       "      <td>0</td>\n",
       "      <td>1</td>\n",
       "      <td>Hunasamaranahalli,Bangalore</td>\n",
       "      <td>13.143000</td>\n",
       "      <td>77.619000</td>\n",
       "      <td>350.0</td>\n",
       "    </tr>\n",
       "    <tr>\n",
       "      <th>25603</th>\n",
       "      <td>Owner</td>\n",
       "      <td>0</td>\n",
       "      <td>0</td>\n",
       "      <td>15</td>\n",
       "      <td>BHK</td>\n",
       "      <td>8000.000000</td>\n",
       "      <td>1</td>\n",
       "      <td>1</td>\n",
       "      <td>Kadri,Mangalore</td>\n",
       "      <td>12.884190</td>\n",
       "      <td>74.855260</td>\n",
       "      <td>500.0</td>\n",
       "    </tr>\n",
       "    <tr>\n",
       "      <th>26200</th>\n",
       "      <td>Dealer</td>\n",
       "      <td>0</td>\n",
       "      <td>0</td>\n",
       "      <td>20</td>\n",
       "      <td>BHK</td>\n",
       "      <td>11983.122360</td>\n",
       "      <td>1</td>\n",
       "      <td>1</td>\n",
       "      <td>Ashoknagar,Udaipur</td>\n",
       "      <td>24.583330</td>\n",
       "      <td>73.683330</td>\n",
       "      <td>710.0</td>\n",
       "    </tr>\n",
       "    <tr>\n",
       "      <th>29004</th>\n",
       "      <td>Dealer</td>\n",
       "      <td>0</td>\n",
       "      <td>0</td>\n",
       "      <td>15</td>\n",
       "      <td>BHK</td>\n",
       "      <td>5894.736842</td>\n",
       "      <td>1</td>\n",
       "      <td>1</td>\n",
       "      <td>Kalikapur,Kolkata</td>\n",
       "      <td>22.127030</td>\n",
       "      <td>88.518729</td>\n",
       "      <td>280.0</td>\n",
       "    </tr>\n",
       "    <tr>\n",
       "      <th>29187</th>\n",
       "      <td>Owner</td>\n",
       "      <td>0</td>\n",
       "      <td>0</td>\n",
       "      <td>20</td>\n",
       "      <td>BHK</td>\n",
       "      <td>16860.563140</td>\n",
       "      <td>1</td>\n",
       "      <td>1</td>\n",
       "      <td>Seethammadhara,Visakhapatnam</td>\n",
       "      <td>17.741878</td>\n",
       "      <td>83.308875</td>\n",
       "      <td>2000.0</td>\n",
       "    </tr>\n",
       "  </tbody>\n",
       "</table>\n",
       "</div>"
      ],
      "text/plain": [
       "      POSTED_BY  UNDER_CONSTRUCTION  RERA  BHK_NO. BHK_OR_RK     SQUARE_FT  \\\n",
       "2215      Owner                   0     0       12       BHK   6373.486297   \n",
       "3466      Owner                   0     0       20       BHK    348.863897   \n",
       "8872     Dealer                   0     0       13       BHK  10460.251050   \n",
       "13440     Owner                   0     0       17       BHK  11000.343760   \n",
       "16278     Owner                   0     0       15       BHK   3000.107147   \n",
       "16397     Owner                   0     0       11       BHK   4000.000000   \n",
       "16429     Owner                   0     0       15       BHK  15001.153930   \n",
       "17160     Owner                   1     0       12       BHK   4570.848146   \n",
       "19425     Owner                   0     0       12       BHK   4824.561404   \n",
       "20745     Owner                   1     0       20       BHK   7000.000000   \n",
       "25603     Owner                   0     0       15       BHK   8000.000000   \n",
       "26200    Dealer                   0     0       20       BHK  11983.122360   \n",
       "29004    Dealer                   0     0       15       BHK   5894.736842   \n",
       "29187     Owner                   0     0       20       BHK  16860.563140   \n",
       "\n",
       "       READY_TO_MOVE  RESALE  \\\n",
       "2215               1       1   \n",
       "3466               1       1   \n",
       "8872               1       1   \n",
       "13440              1       1   \n",
       "16278              1       1   \n",
       "16397              1       1   \n",
       "16429              1       1   \n",
       "17160              0       1   \n",
       "19425              1       1   \n",
       "20745              0       1   \n",
       "25603              1       1   \n",
       "26200              1       1   \n",
       "29004              1       1   \n",
       "29187              1       1   \n",
       "\n",
       "                                                 ADDRESS  LONGITUDE  \\\n",
       "2215   Ashok Nagar , Kalapatti, Coimbatore District,C...  11.086274   \n",
       "3466                                       Rat,Ratnagiri  16.983330   \n",
       "8872                                   Bagalur,Bangalore  13.143933   \n",
       "13440                                  Karanodai,Chennai  13.252330   \n",
       "16278                              Jharapada,Bhubaneswar  20.275267   \n",
       "16397                                Jaipur road,Bikaner  28.863593   \n",
       "16429                                  Laggere,Bangalore  13.008595   \n",
       "17160                            Vilankurichi,Coimbatore  11.074387   \n",
       "19425               Factory circle bashettalli,Bangalore  21.000000   \n",
       "20745                        Hunasamaranahalli,Bangalore  13.143000   \n",
       "25603                                    Kadri,Mangalore  12.884190   \n",
       "26200                                 Ashoknagar,Udaipur  24.583330   \n",
       "29004                                  Kalikapur,Kolkata  22.127030   \n",
       "29187                       Seethammadhara,Visakhapatnam  17.741878   \n",
       "\n",
       "        LATITUDE  TARGET(PRICE_IN_LACS)  \n",
       "2215   77.033799                  200.0  \n",
       "3466   73.300000                   15.2  \n",
       "8872   77.667304                  500.0  \n",
       "13440  80.163376                  320.0  \n",
       "16278  85.862407                  280.0  \n",
       "16397  74.048835                   55.0  \n",
       "16429  77.523704                  650.0  \n",
       "17160  77.018510                  180.0  \n",
       "19425  77.000000                  110.0  \n",
       "20745  77.619000                  350.0  \n",
       "25603  74.855260                  500.0  \n",
       "26200  73.683330                  710.0  \n",
       "29004  88.518729                  280.0  \n",
       "29187  83.308875                 2000.0  "
      ]
     },
     "execution_count": 11,
     "metadata": {},
     "output_type": "execute_result"
    }
   ],
   "source": [
    "train[train['BHK_NO.']>10]"
   ]
  },
  {
   "cell_type": "markdown",
   "id": "46b67300",
   "metadata": {},
   "source": [
    "For houses having square feet more than 10000 they can have more than 15 bhk's but if houses having square feet less than 40 and having bhk more than 10 is unusual and not normal. Will remove them."
   ]
  },
  {
   "cell_type": "markdown",
   "id": "3756996a",
   "metadata": {},
   "source": [
    "We write condition minimum of 300 sft should be present for 1 bhk else remove the records."
   ]
  },
  {
   "cell_type": "code",
   "execution_count": 12,
   "id": "08910824",
   "metadata": {},
   "outputs": [
    {
     "data": {
      "text/html": [
       "<div>\n",
       "<style scoped>\n",
       "    .dataframe tbody tr th:only-of-type {\n",
       "        vertical-align: middle;\n",
       "    }\n",
       "\n",
       "    .dataframe tbody tr th {\n",
       "        vertical-align: top;\n",
       "    }\n",
       "\n",
       "    .dataframe thead th {\n",
       "        text-align: right;\n",
       "    }\n",
       "</style>\n",
       "<table border=\"1\" class=\"dataframe\">\n",
       "  <thead>\n",
       "    <tr style=\"text-align: right;\">\n",
       "      <th></th>\n",
       "      <th>POSTED_BY</th>\n",
       "      <th>UNDER_CONSTRUCTION</th>\n",
       "      <th>RERA</th>\n",
       "      <th>BHK_NO.</th>\n",
       "      <th>BHK_OR_RK</th>\n",
       "      <th>SQUARE_FT</th>\n",
       "      <th>READY_TO_MOVE</th>\n",
       "      <th>RESALE</th>\n",
       "      <th>ADDRESS</th>\n",
       "      <th>LONGITUDE</th>\n",
       "      <th>LATITUDE</th>\n",
       "      <th>TARGET(PRICE_IN_LACS)</th>\n",
       "    </tr>\n",
       "  </thead>\n",
       "  <tbody>\n",
       "    <tr>\n",
       "      <th>65</th>\n",
       "      <td>Dealer</td>\n",
       "      <td>0</td>\n",
       "      <td>1</td>\n",
       "      <td>2</td>\n",
       "      <td>BHK</td>\n",
       "      <td>573.876915</td>\n",
       "      <td>1</td>\n",
       "      <td>1</td>\n",
       "      <td>Sector 86 Faridabad,Faridabad</td>\n",
       "      <td>28.406388</td>\n",
       "      <td>77.342588</td>\n",
       "      <td>22.1</td>\n",
       "    </tr>\n",
       "    <tr>\n",
       "      <th>80</th>\n",
       "      <td>Dealer</td>\n",
       "      <td>0</td>\n",
       "      <td>0</td>\n",
       "      <td>3</td>\n",
       "      <td>BHK</td>\n",
       "      <td>767.018217</td>\n",
       "      <td>1</td>\n",
       "      <td>1</td>\n",
       "      <td>DN Nagar,Maharashtra</td>\n",
       "      <td>20.742166</td>\n",
       "      <td>80.104602</td>\n",
       "      <td>240.0</td>\n",
       "    </tr>\n",
       "    <tr>\n",
       "      <th>128</th>\n",
       "      <td>Owner</td>\n",
       "      <td>0</td>\n",
       "      <td>1</td>\n",
       "      <td>2</td>\n",
       "      <td>BHK</td>\n",
       "      <td>398.262129</td>\n",
       "      <td>1</td>\n",
       "      <td>1</td>\n",
       "      <td>Purseni,Lucknow</td>\n",
       "      <td>26.707154</td>\n",
       "      <td>80.982346</td>\n",
       "      <td>11.0</td>\n",
       "    </tr>\n",
       "    <tr>\n",
       "      <th>167</th>\n",
       "      <td>Dealer</td>\n",
       "      <td>1</td>\n",
       "      <td>1</td>\n",
       "      <td>1</td>\n",
       "      <td>BHK</td>\n",
       "      <td>265.003393</td>\n",
       "      <td>0</td>\n",
       "      <td>1</td>\n",
       "      <td>Andheri (East),Lalitpur</td>\n",
       "      <td>19.114500</td>\n",
       "      <td>72.871200</td>\n",
       "      <td>82.0</td>\n",
       "    </tr>\n",
       "    <tr>\n",
       "      <th>175</th>\n",
       "      <td>Dealer</td>\n",
       "      <td>1</td>\n",
       "      <td>1</td>\n",
       "      <td>2</td>\n",
       "      <td>BHK</td>\n",
       "      <td>499.636628</td>\n",
       "      <td>0</td>\n",
       "      <td>0</td>\n",
       "      <td>Hiranandani Estate,Maharashtra</td>\n",
       "      <td>19.255098</td>\n",
       "      <td>72.981527</td>\n",
       "      <td>110.0</td>\n",
       "    </tr>\n",
       "    <tr>\n",
       "      <th>...</th>\n",
       "      <td>...</td>\n",
       "      <td>...</td>\n",
       "      <td>...</td>\n",
       "      <td>...</td>\n",
       "      <td>...</td>\n",
       "      <td>...</td>\n",
       "      <td>...</td>\n",
       "      <td>...</td>\n",
       "      <td>...</td>\n",
       "      <td>...</td>\n",
       "      <td>...</td>\n",
       "      <td>...</td>\n",
       "    </tr>\n",
       "    <tr>\n",
       "      <th>29162</th>\n",
       "      <td>Owner</td>\n",
       "      <td>0</td>\n",
       "      <td>0</td>\n",
       "      <td>3</td>\n",
       "      <td>BHK</td>\n",
       "      <td>750.107158</td>\n",
       "      <td>1</td>\n",
       "      <td>1</td>\n",
       "      <td>Nava Nagarwada,Junagadh</td>\n",
       "      <td>21.520000</td>\n",
       "      <td>70.470000</td>\n",
       "      <td>35.0</td>\n",
       "    </tr>\n",
       "    <tr>\n",
       "      <th>29183</th>\n",
       "      <td>Dealer</td>\n",
       "      <td>1</td>\n",
       "      <td>1</td>\n",
       "      <td>2</td>\n",
       "      <td>BHK</td>\n",
       "      <td>535.004586</td>\n",
       "      <td>0</td>\n",
       "      <td>1</td>\n",
       "      <td>Kanjur Marg (East),Mumbai</td>\n",
       "      <td>19.221571</td>\n",
       "      <td>73.042474</td>\n",
       "      <td>140.0</td>\n",
       "    </tr>\n",
       "    <tr>\n",
       "      <th>29308</th>\n",
       "      <td>Builder</td>\n",
       "      <td>1</td>\n",
       "      <td>1</td>\n",
       "      <td>1</td>\n",
       "      <td>BHK</td>\n",
       "      <td>90.252708</td>\n",
       "      <td>0</td>\n",
       "      <td>0</td>\n",
       "      <td>Roha,Raigad</td>\n",
       "      <td>18.454300</td>\n",
       "      <td>73.114700</td>\n",
       "      <td>2.0</td>\n",
       "    </tr>\n",
       "    <tr>\n",
       "      <th>29400</th>\n",
       "      <td>Dealer</td>\n",
       "      <td>1</td>\n",
       "      <td>1</td>\n",
       "      <td>2</td>\n",
       "      <td>BHK</td>\n",
       "      <td>511.555677</td>\n",
       "      <td>0</td>\n",
       "      <td>0</td>\n",
       "      <td>Anjurdive,Maharashtra</td>\n",
       "      <td>18.960000</td>\n",
       "      <td>72.820000</td>\n",
       "      <td>56.0</td>\n",
       "    </tr>\n",
       "    <tr>\n",
       "      <th>29401</th>\n",
       "      <td>Dealer</td>\n",
       "      <td>0</td>\n",
       "      <td>0</td>\n",
       "      <td>2</td>\n",
       "      <td>BHK</td>\n",
       "      <td>556.818709</td>\n",
       "      <td>1</td>\n",
       "      <td>1</td>\n",
       "      <td>Dahisar (East),Mumbai</td>\n",
       "      <td>19.256471</td>\n",
       "      <td>72.868815</td>\n",
       "      <td>120.0</td>\n",
       "    </tr>\n",
       "  </tbody>\n",
       "</table>\n",
       "<p>786 rows × 12 columns</p>\n",
       "</div>"
      ],
      "text/plain": [
       "      POSTED_BY  UNDER_CONSTRUCTION  RERA  BHK_NO. BHK_OR_RK   SQUARE_FT  \\\n",
       "65       Dealer                   0     1        2       BHK  573.876915   \n",
       "80       Dealer                   0     0        3       BHK  767.018217   \n",
       "128       Owner                   0     1        2       BHK  398.262129   \n",
       "167      Dealer                   1     1        1       BHK  265.003393   \n",
       "175      Dealer                   1     1        2       BHK  499.636628   \n",
       "...         ...                 ...   ...      ...       ...         ...   \n",
       "29162     Owner                   0     0        3       BHK  750.107158   \n",
       "29183    Dealer                   1     1        2       BHK  535.004586   \n",
       "29308   Builder                   1     1        1       BHK   90.252708   \n",
       "29400    Dealer                   1     1        2       BHK  511.555677   \n",
       "29401    Dealer                   0     0        2       BHK  556.818709   \n",
       "\n",
       "       READY_TO_MOVE  RESALE                         ADDRESS  LONGITUDE  \\\n",
       "65                 1       1   Sector 86 Faridabad,Faridabad  28.406388   \n",
       "80                 1       1            DN Nagar,Maharashtra  20.742166   \n",
       "128                1       1                 Purseni,Lucknow  26.707154   \n",
       "167                0       1         Andheri (East),Lalitpur  19.114500   \n",
       "175                0       0  Hiranandani Estate,Maharashtra  19.255098   \n",
       "...              ...     ...                             ...        ...   \n",
       "29162              1       1         Nava Nagarwada,Junagadh  21.520000   \n",
       "29183              0       1       Kanjur Marg (East),Mumbai  19.221571   \n",
       "29308              0       0                     Roha,Raigad  18.454300   \n",
       "29400              0       0           Anjurdive,Maharashtra  18.960000   \n",
       "29401              1       1           Dahisar (East),Mumbai  19.256471   \n",
       "\n",
       "        LATITUDE  TARGET(PRICE_IN_LACS)  \n",
       "65     77.342588                   22.1  \n",
       "80     80.104602                  240.0  \n",
       "128    80.982346                   11.0  \n",
       "167    72.871200                   82.0  \n",
       "175    72.981527                  110.0  \n",
       "...          ...                    ...  \n",
       "29162  70.470000                   35.0  \n",
       "29183  73.042474                  140.0  \n",
       "29308  73.114700                    2.0  \n",
       "29400  72.820000                   56.0  \n",
       "29401  72.868815                  120.0  \n",
       "\n",
       "[786 rows x 12 columns]"
      ]
     },
     "execution_count": 12,
     "metadata": {},
     "output_type": "execute_result"
    }
   ],
   "source": [
    "train[train['SQUARE_FT']/train['BHK_NO.']<300]"
   ]
  },
  {
   "cell_type": "markdown",
   "id": "eabf7ac1",
   "metadata": {},
   "source": [
    "We can remove these records which have sft for 1 bhk less than 300 and consider the other records."
   ]
  },
  {
   "cell_type": "code",
   "execution_count": 13,
   "id": "cde74e8d",
   "metadata": {},
   "outputs": [],
   "source": [
    "data=train[train['SQUARE_FT']/train['BHK_NO.']>=300]"
   ]
  },
  {
   "cell_type": "code",
   "execution_count": 14,
   "id": "1c696405",
   "metadata": {},
   "outputs": [
    {
     "name": "stdout",
     "output_type": "stream",
     "text": [
      "<class 'pandas.core.frame.DataFrame'>\n",
      "Int64Index: 28665 entries, 0 to 29450\n",
      "Data columns (total 12 columns):\n",
      " #   Column                 Non-Null Count  Dtype  \n",
      "---  ------                 --------------  -----  \n",
      " 0   POSTED_BY              28665 non-null  object \n",
      " 1   UNDER_CONSTRUCTION     28665 non-null  int64  \n",
      " 2   RERA                   28665 non-null  int64  \n",
      " 3   BHK_NO.                28665 non-null  int64  \n",
      " 4   BHK_OR_RK              28665 non-null  object \n",
      " 5   SQUARE_FT              28665 non-null  float64\n",
      " 6   READY_TO_MOVE          28665 non-null  int64  \n",
      " 7   RESALE                 28665 non-null  int64  \n",
      " 8   ADDRESS                28665 non-null  object \n",
      " 9   LONGITUDE              28665 non-null  float64\n",
      " 10  LATITUDE               28665 non-null  float64\n",
      " 11  TARGET(PRICE_IN_LACS)  28665 non-null  float64\n",
      "dtypes: float64(4), int64(5), object(3)\n",
      "memory usage: 2.8+ MB\n"
     ]
    }
   ],
   "source": [
    "data.info()"
   ]
  },
  {
   "cell_type": "markdown",
   "id": "bc40c079",
   "metadata": {},
   "source": [
    "we will check the unique values in other columns (excluding square_ft, latitude, longitude, target(price_in_lacs))."
   ]
  },
  {
   "cell_type": "code",
   "execution_count": 16,
   "id": "ce65b90c",
   "metadata": {},
   "outputs": [
    {
     "name": "stdout",
     "output_type": "stream",
     "text": [
      "<class 'pandas.core.frame.DataFrame'>\n",
      "Int64Index: 28665 entries, 0 to 29450\n",
      "Data columns (total 10 columns):\n",
      " #   Column                 Non-Null Count  Dtype  \n",
      "---  ------                 --------------  -----  \n",
      " 0   POSTED_BY              28665 non-null  object \n",
      " 1   UNDER_CONSTRUCTION     28665 non-null  int64  \n",
      " 2   RERA                   28665 non-null  int64  \n",
      " 3   BHK_NO.                28665 non-null  int64  \n",
      " 4   BHK_OR_RK              28665 non-null  object \n",
      " 5   SQUARE_FT              28665 non-null  float64\n",
      " 6   READY_TO_MOVE          28665 non-null  int64  \n",
      " 7   RESALE                 28665 non-null  int64  \n",
      " 8   ADDRESS                28665 non-null  object \n",
      " 9   TARGET(PRICE_IN_LACS)  28665 non-null  float64\n",
      "dtypes: float64(2), int64(5), object(3)\n",
      "memory usage: 2.4+ MB\n"
     ]
    }
   ],
   "source": [
    "data.info()"
   ]
  },
  {
   "cell_type": "code",
   "execution_count": 17,
   "id": "52f7b129",
   "metadata": {},
   "outputs": [],
   "source": [
    "c = data.columns"
   ]
  },
  {
   "cell_type": "code",
   "execution_count": 18,
   "id": "a3d067f4",
   "metadata": {},
   "outputs": [
    {
     "data": {
      "text/plain": [
       "Index(['POSTED_BY', 'UNDER_CONSTRUCTION', 'RERA', 'BHK_NO.', 'BHK_OR_RK',\n",
       "       'SQUARE_FT', 'READY_TO_MOVE', 'RESALE', 'ADDRESS',\n",
       "       'TARGET(PRICE_IN_LACS)'],\n",
       "      dtype='object')"
      ]
     },
     "execution_count": 18,
     "metadata": {},
     "output_type": "execute_result"
    }
   ],
   "source": [
    "c"
   ]
  },
  {
   "cell_type": "markdown",
   "id": "b4319fd4",
   "metadata": {},
   "source": [
    "Address have multiple values, will retrieve the city name from the address and categorize into 3 different regions."
   ]
  },
  {
   "cell_type": "code",
   "execution_count": 19,
   "id": "6ed0002a",
   "metadata": {},
   "outputs": [
    {
     "name": "stdout",
     "output_type": "stream",
     "text": [
      "for POSTED_BY, unique values are ['Owner' 'Dealer' 'Builder']\n",
      "for POSTED_BY, unique values count is Dealer     17790\n",
      "Owner      10299\n",
      "Builder      576\n",
      "Name: POSTED_BY, dtype: int64\n",
      "for UNDER_CONSTRUCTION, unique values are [0 1]\n",
      "for UNDER_CONSTRUCTION, unique values count is 0    23738\n",
      "1     4927\n",
      "Name: UNDER_CONSTRUCTION, dtype: int64\n",
      "for RERA, unique values are [0 1]\n",
      "for RERA, unique values count is 0    19738\n",
      "1     8927\n",
      "Name: RERA, dtype: int64\n",
      "for BHK_NO., unique values are [ 2  3  1  4  5  6 12  8 10  7 13 17  9 11 15 20]\n",
      "for BHK_NO., unique values count is 2     12893\n",
      "3     10297\n",
      "1      3508\n",
      "4      1703\n",
      "5       180\n",
      "6        51\n",
      "7         9\n",
      "8         7\n",
      "20        3\n",
      "10        3\n",
      "12        3\n",
      "15        3\n",
      "9         2\n",
      "17        1\n",
      "11        1\n",
      "13        1\n",
      "Name: BHK_NO., dtype: int64\n",
      "for BHK_OR_RK, unique values are ['BHK' 'RK']\n",
      "for BHK_OR_RK, unique values count is BHK    28650\n",
      "RK        15\n",
      "Name: BHK_OR_RK, dtype: int64\n",
      "for READY_TO_MOVE, unique values are [1 0]\n",
      "for READY_TO_MOVE, unique values count is 1    23738\n",
      "0     4927\n",
      "Name: READY_TO_MOVE, dtype: int64\n",
      "for RESALE, unique values are [1 0]\n",
      "for RESALE, unique values count is 1    26876\n",
      "0     1789\n",
      "Name: RESALE, dtype: int64\n",
      "for ADDRESS, unique values are ['Ksfc Layout,Bangalore' 'Vishweshwara Nagar,Mysore' 'Jigani,Bangalore'\n",
      " ... 'west mambalam,Chennai' 'Gandhi Nagar,Gulbarga'\n",
      " 'E3-108, Lake View Recidency,,Vapi']\n",
      "for ADDRESS, unique values count is Zirakpur,Chandigarh                                    509\n",
      "Whitefield,Bangalore                                   230\n",
      "Raj Nagar Extension,Ghaziabad                          215\n",
      "Sector-137 Noida,Noida                                 139\n",
      "New Town,Kolkata                                       128\n",
      "                                                      ... \n",
      "Bhikaripur Khurd,Varanasi                                1\n",
      "Kamadenu Lay out Konapana Agrahara,Bangalore             1\n",
      "Thirunagar,Madurai                                       1\n",
      "duggirala,Tenali                                         1\n",
      "Near Arbindo Hospital Opposite London Villa,,Indore      1\n",
      "Name: ADDRESS, Length: 6741, dtype: int64\n"
     ]
    }
   ],
   "source": [
    "def unique_values(cols,cleaned_data):\n",
    "    if cols not in ('SQUARE_FT','TARGET(PRICE_IN_LACS)'):\n",
    "        print('for {}, unique values are {}'.format(cols,cleaned_data[cols].unique()))\n",
    "        print('for {}, unique values count is {}'.format(cols,cleaned_data[cols].value_counts()))\n",
    "\n",
    "for i in c:\n",
    "    unique_values(i,data)"
   ]
  },
  {
   "cell_type": "code",
   "execution_count": 20,
   "id": "6849c5d0",
   "metadata": {},
   "outputs": [
    {
     "data": {
      "text/html": [
       "<div>\n",
       "<style scoped>\n",
       "    .dataframe tbody tr th:only-of-type {\n",
       "        vertical-align: middle;\n",
       "    }\n",
       "\n",
       "    .dataframe tbody tr th {\n",
       "        vertical-align: top;\n",
       "    }\n",
       "\n",
       "    .dataframe thead th {\n",
       "        text-align: right;\n",
       "    }\n",
       "</style>\n",
       "<table border=\"1\" class=\"dataframe\">\n",
       "  <thead>\n",
       "    <tr style=\"text-align: right;\">\n",
       "      <th></th>\n",
       "      <th>POSTED_BY</th>\n",
       "      <th>UNDER_CONSTRUCTION</th>\n",
       "      <th>RERA</th>\n",
       "      <th>BHK_NO.</th>\n",
       "      <th>BHK_OR_RK</th>\n",
       "      <th>SQUARE_FT</th>\n",
       "      <th>READY_TO_MOVE</th>\n",
       "      <th>RESALE</th>\n",
       "      <th>ADDRESS</th>\n",
       "      <th>TARGET(PRICE_IN_LACS)</th>\n",
       "    </tr>\n",
       "  </thead>\n",
       "  <tbody>\n",
       "    <tr>\n",
       "      <th>4</th>\n",
       "      <td>Dealer</td>\n",
       "      <td>1</td>\n",
       "      <td>0</td>\n",
       "      <td>2</td>\n",
       "      <td>BHK</td>\n",
       "      <td>999.009247</td>\n",
       "      <td>0</td>\n",
       "      <td>1</td>\n",
       "      <td>New Town,Kolkata</td>\n",
       "      <td>60.5</td>\n",
       "    </tr>\n",
       "    <tr>\n",
       "      <th>7</th>\n",
       "      <td>Owner</td>\n",
       "      <td>0</td>\n",
       "      <td>1</td>\n",
       "      <td>3</td>\n",
       "      <td>BHK</td>\n",
       "      <td>1181.012946</td>\n",
       "      <td>1</td>\n",
       "      <td>1</td>\n",
       "      <td>Kharar,Mohali</td>\n",
       "      <td>52.0</td>\n",
       "    </tr>\n",
       "    <tr>\n",
       "      <th>11</th>\n",
       "      <td>Dealer</td>\n",
       "      <td>0</td>\n",
       "      <td>0</td>\n",
       "      <td>2</td>\n",
       "      <td>BHK</td>\n",
       "      <td>1333.010179</td>\n",
       "      <td>1</td>\n",
       "      <td>1</td>\n",
       "      <td>Hebbal,Bangalore</td>\n",
       "      <td>110.0</td>\n",
       "    </tr>\n",
       "    <tr>\n",
       "      <th>13</th>\n",
       "      <td>Owner</td>\n",
       "      <td>0</td>\n",
       "      <td>1</td>\n",
       "      <td>2</td>\n",
       "      <td>BHK</td>\n",
       "      <td>1122.171946</td>\n",
       "      <td>1</td>\n",
       "      <td>1</td>\n",
       "      <td>Sector-119 Noida,Noida</td>\n",
       "      <td>62.0</td>\n",
       "    </tr>\n",
       "    <tr>\n",
       "      <th>15</th>\n",
       "      <td>Dealer</td>\n",
       "      <td>1</td>\n",
       "      <td>1</td>\n",
       "      <td>3</td>\n",
       "      <td>BHK</td>\n",
       "      <td>1394.117647</td>\n",
       "      <td>0</td>\n",
       "      <td>1</td>\n",
       "      <td>Sector-150 Noida,Noida</td>\n",
       "      <td>71.1</td>\n",
       "    </tr>\n",
       "    <tr>\n",
       "      <th>...</th>\n",
       "      <td>...</td>\n",
       "      <td>...</td>\n",
       "      <td>...</td>\n",
       "      <td>...</td>\n",
       "      <td>...</td>\n",
       "      <td>...</td>\n",
       "      <td>...</td>\n",
       "      <td>...</td>\n",
       "      <td>...</td>\n",
       "      <td>...</td>\n",
       "    </tr>\n",
       "    <tr>\n",
       "      <th>29436</th>\n",
       "      <td>Owner</td>\n",
       "      <td>1</td>\n",
       "      <td>1</td>\n",
       "      <td>2</td>\n",
       "      <td>BHK</td>\n",
       "      <td>1175.132676</td>\n",
       "      <td>0</td>\n",
       "      <td>1</td>\n",
       "      <td>Whitefield,Bangalore</td>\n",
       "      <td>62.0</td>\n",
       "    </tr>\n",
       "    <tr>\n",
       "      <th>29444</th>\n",
       "      <td>Dealer</td>\n",
       "      <td>1</td>\n",
       "      <td>1</td>\n",
       "      <td>1</td>\n",
       "      <td>BHK</td>\n",
       "      <td>752.049334</td>\n",
       "      <td>0</td>\n",
       "      <td>1</td>\n",
       "      <td>Mulund (West),Mumbai</td>\n",
       "      <td>100.0</td>\n",
       "    </tr>\n",
       "    <tr>\n",
       "      <th>29448</th>\n",
       "      <td>Dealer</td>\n",
       "      <td>0</td>\n",
       "      <td>0</td>\n",
       "      <td>2</td>\n",
       "      <td>BHK</td>\n",
       "      <td>1022.641509</td>\n",
       "      <td>1</td>\n",
       "      <td>1</td>\n",
       "      <td>Ajmer Road,Jaipur</td>\n",
       "      <td>27.1</td>\n",
       "    </tr>\n",
       "    <tr>\n",
       "      <th>29449</th>\n",
       "      <td>Owner</td>\n",
       "      <td>0</td>\n",
       "      <td>0</td>\n",
       "      <td>2</td>\n",
       "      <td>BHK</td>\n",
       "      <td>927.079009</td>\n",
       "      <td>1</td>\n",
       "      <td>1</td>\n",
       "      <td>Sholinganallur,Chennai</td>\n",
       "      <td>67.0</td>\n",
       "    </tr>\n",
       "    <tr>\n",
       "      <th>29450</th>\n",
       "      <td>Dealer</td>\n",
       "      <td>0</td>\n",
       "      <td>1</td>\n",
       "      <td>2</td>\n",
       "      <td>BHK</td>\n",
       "      <td>896.774194</td>\n",
       "      <td>1</td>\n",
       "      <td>1</td>\n",
       "      <td>Jagatpura,Jaipur</td>\n",
       "      <td>27.8</td>\n",
       "    </tr>\n",
       "  </tbody>\n",
       "</table>\n",
       "<p>11250 rows × 10 columns</p>\n",
       "</div>"
      ],
      "text/plain": [
       "      POSTED_BY  UNDER_CONSTRUCTION  RERA  BHK_NO. BHK_OR_RK    SQUARE_FT  \\\n",
       "4        Dealer                   1     0        2       BHK   999.009247   \n",
       "7         Owner                   0     1        3       BHK  1181.012946   \n",
       "11       Dealer                   0     0        2       BHK  1333.010179   \n",
       "13        Owner                   0     1        2       BHK  1122.171946   \n",
       "15       Dealer                   1     1        3       BHK  1394.117647   \n",
       "...         ...                 ...   ...      ...       ...          ...   \n",
       "29436     Owner                   1     1        2       BHK  1175.132676   \n",
       "29444    Dealer                   1     1        1       BHK   752.049334   \n",
       "29448    Dealer                   0     0        2       BHK  1022.641509   \n",
       "29449     Owner                   0     0        2       BHK   927.079009   \n",
       "29450    Dealer                   0     1        2       BHK   896.774194   \n",
       "\n",
       "       READY_TO_MOVE  RESALE                 ADDRESS  TARGET(PRICE_IN_LACS)  \n",
       "4                  0       1        New Town,Kolkata                   60.5  \n",
       "7                  1       1           Kharar,Mohali                   52.0  \n",
       "11                 1       1        Hebbal,Bangalore                  110.0  \n",
       "13                 1       1  Sector-119 Noida,Noida                   62.0  \n",
       "15                 0       1  Sector-150 Noida,Noida                   71.1  \n",
       "...              ...     ...                     ...                    ...  \n",
       "29436              0       1    Whitefield,Bangalore                   62.0  \n",
       "29444              0       1    Mulund (West),Mumbai                  100.0  \n",
       "29448              1       1       Ajmer Road,Jaipur                   27.1  \n",
       "29449              1       1  Sholinganallur,Chennai                   67.0  \n",
       "29450              1       1        Jagatpura,Jaipur                   27.8  \n",
       "\n",
       "[11250 rows x 10 columns]"
      ]
     },
     "execution_count": 20,
     "metadata": {},
     "output_type": "execute_result"
    }
   ],
   "source": [
    "data[data['ADDRESS'].isin(data['ADDRESS'].value_counts()[data['ADDRESS'].value_counts()>20].index)]"
   ]
  },
  {
   "cell_type": "code",
   "execution_count": 72,
   "id": "fa6c2032",
   "metadata": {},
   "outputs": [],
   "source": [
    "#[i.split(',')[1] for i in data['ADDRESS']]\n",
    "data['ADDRESS_CITY']=data['ADDRESS'].apply(lambda x:x.split(',')[1])"
   ]
  },
  {
   "cell_type": "code",
   "execution_count": 73,
   "id": "dd943c9b",
   "metadata": {},
   "outputs": [],
   "source": [
    "datacl=data.drop('ADDRESS',axis=1)"
   ]
  },
  {
   "cell_type": "code",
   "execution_count": 74,
   "id": "5057a446",
   "metadata": {},
   "outputs": [
    {
     "data": {
      "text/html": [
       "<div>\n",
       "<style scoped>\n",
       "    .dataframe tbody tr th:only-of-type {\n",
       "        vertical-align: middle;\n",
       "    }\n",
       "\n",
       "    .dataframe tbody tr th {\n",
       "        vertical-align: top;\n",
       "    }\n",
       "\n",
       "    .dataframe thead th {\n",
       "        text-align: right;\n",
       "    }\n",
       "</style>\n",
       "<table border=\"1\" class=\"dataframe\">\n",
       "  <thead>\n",
       "    <tr style=\"text-align: right;\">\n",
       "      <th></th>\n",
       "      <th>POSTED_BY</th>\n",
       "      <th>UNDER_CONSTRUCTION</th>\n",
       "      <th>RERA</th>\n",
       "      <th>BHK_NO.</th>\n",
       "      <th>BHK_OR_RK</th>\n",
       "      <th>SQUARE_FT</th>\n",
       "      <th>READY_TO_MOVE</th>\n",
       "      <th>RESALE</th>\n",
       "      <th>TARGET(PRICE_IN_LACS)</th>\n",
       "      <th>ADDRESS_CITY</th>\n",
       "    </tr>\n",
       "  </thead>\n",
       "  <tbody>\n",
       "    <tr>\n",
       "      <th>0</th>\n",
       "      <td>Owner</td>\n",
       "      <td>0</td>\n",
       "      <td>0</td>\n",
       "      <td>2</td>\n",
       "      <td>BHK</td>\n",
       "      <td>1300.236407</td>\n",
       "      <td>1</td>\n",
       "      <td>1</td>\n",
       "      <td>55.0</td>\n",
       "      <td>Bangalore</td>\n",
       "    </tr>\n",
       "    <tr>\n",
       "      <th>1</th>\n",
       "      <td>Dealer</td>\n",
       "      <td>0</td>\n",
       "      <td>0</td>\n",
       "      <td>2</td>\n",
       "      <td>BHK</td>\n",
       "      <td>1275.000000</td>\n",
       "      <td>1</td>\n",
       "      <td>1</td>\n",
       "      <td>51.0</td>\n",
       "      <td>Mysore</td>\n",
       "    </tr>\n",
       "    <tr>\n",
       "      <th>2</th>\n",
       "      <td>Owner</td>\n",
       "      <td>0</td>\n",
       "      <td>0</td>\n",
       "      <td>2</td>\n",
       "      <td>BHK</td>\n",
       "      <td>933.159722</td>\n",
       "      <td>1</td>\n",
       "      <td>1</td>\n",
       "      <td>43.0</td>\n",
       "      <td>Bangalore</td>\n",
       "    </tr>\n",
       "    <tr>\n",
       "      <th>3</th>\n",
       "      <td>Owner</td>\n",
       "      <td>0</td>\n",
       "      <td>1</td>\n",
       "      <td>2</td>\n",
       "      <td>BHK</td>\n",
       "      <td>929.921143</td>\n",
       "      <td>1</td>\n",
       "      <td>1</td>\n",
       "      <td>62.5</td>\n",
       "      <td>Ghaziabad</td>\n",
       "    </tr>\n",
       "    <tr>\n",
       "      <th>4</th>\n",
       "      <td>Dealer</td>\n",
       "      <td>1</td>\n",
       "      <td>0</td>\n",
       "      <td>2</td>\n",
       "      <td>BHK</td>\n",
       "      <td>999.009247</td>\n",
       "      <td>0</td>\n",
       "      <td>1</td>\n",
       "      <td>60.5</td>\n",
       "      <td>Kolkata</td>\n",
       "    </tr>\n",
       "  </tbody>\n",
       "</table>\n",
       "</div>"
      ],
      "text/plain": [
       "  POSTED_BY  UNDER_CONSTRUCTION  RERA  BHK_NO. BHK_OR_RK    SQUARE_FT  \\\n",
       "0     Owner                   0     0        2       BHK  1300.236407   \n",
       "1    Dealer                   0     0        2       BHK  1275.000000   \n",
       "2     Owner                   0     0        2       BHK   933.159722   \n",
       "3     Owner                   0     1        2       BHK   929.921143   \n",
       "4    Dealer                   1     0        2       BHK   999.009247   \n",
       "\n",
       "   READY_TO_MOVE  RESALE  TARGET(PRICE_IN_LACS) ADDRESS_CITY  \n",
       "0              1       1                   55.0    Bangalore  \n",
       "1              1       1                   51.0       Mysore  \n",
       "2              1       1                   43.0    Bangalore  \n",
       "3              1       1                   62.5    Ghaziabad  \n",
       "4              0       1                   60.5      Kolkata  "
      ]
     },
     "execution_count": 74,
     "metadata": {},
     "output_type": "execute_result"
    }
   ],
   "source": [
    "datacl.head()"
   ]
  },
  {
   "cell_type": "code",
   "execution_count": 79,
   "id": "8206d426",
   "metadata": {},
   "outputs": [],
   "source": [
    "def map_city(city):\n",
    "    if city in ['Ahmedabad', 'Bangalore', 'Chennai', 'Delhi', 'Hyderabad', 'Kolkata', 'Mumbai', 'Pune', 'Maharashtra']:\n",
    "        return 'category1'\n",
    "    elif city in ['Agra', 'Ajmer', 'Aligarh', 'Amravati', 'Amritsar', 'Asansol', 'Aurangabad', 'Bareilly', \n",
    "                  'Belgaum', 'Bhavnagar', 'Bhiwandi', 'Bhopal', 'Bhubaneswar', 'Bikaner', 'Bilaspur', 'Bokaro Steel City', \n",
    "                  'Chandigarh', 'Coimbatore', 'Cuttack', 'Dehradun', 'Dhanbad', 'Bhilai', 'Durgapur', 'Dindigul', 'Erode', \n",
    "                  'Faridabad', 'Firozabad', 'Ghaziabad', 'Gorakhpur', 'Gulbarga', 'Guntur', 'Gwalior', 'Gurgaon', 'Guwahati', \n",
    "                  'Hamirpur', 'Hubli–Dharwad', 'Indore', 'Jabalpur', 'Jaipur', 'Jalandhar', 'Jammu', 'Jamnagar', 'Jamshedpur', \n",
    "                  'Jhansi', 'Jodhpur', 'Kakinada', 'Kannur', 'Kanpur', 'Karnal', 'Kochi', 'Kolhapur', 'Kollam', 'Kozhikode', \n",
    "                  'Kurnool', 'Ludhiana', 'Lucknow', 'Madurai', 'Malappuram', 'Mathura', 'Mangalore', 'Meerut', 'Moradabad', \n",
    "                  'Mysore', 'Nagpur', 'Nanded', 'Nashik', 'Nellore', 'Noida', 'Patna', 'Pondicherry', 'Purulia', 'Prayagraj', \n",
    "                  'Raipur', 'Rajkot', 'Rajahmundry', 'Ranchi', 'Rourkela', 'Ratlam', 'Salem', 'Sangli', 'Shimla', 'Siliguri', \n",
    "                  'Solapur', 'Srinagar', 'Surat', 'Thanjavur', 'Thiruvananthapuram', 'Thrissur', 'Tiruchirappalli', 'Tirunelveli', \n",
    "                  'Tiruvannamalai', 'Ujjain', 'Bijapur', 'Vadodara', 'Varanasi', 'Vasai-Virar City', 'Vijayawada', 'Visakhapatnam', \n",
    "                  'Vellore', 'Warangal']:\n",
    "        return 'category2'\n",
    "    else:\n",
    "        return 'category3'\n",
    "\n",
    "datacl['city_category']=datacl['ADDRESS_CITY'].apply(map_city)\n",
    "datacl.drop('ADDRESS_CITY',axis=1,inplace=True)"
   ]
  },
  {
   "cell_type": "code",
   "execution_count": 80,
   "id": "af55a3d9",
   "metadata": {},
   "outputs": [
    {
     "name": "stdout",
     "output_type": "stream",
     "text": [
      "<class 'pandas.core.frame.DataFrame'>\n",
      "Int64Index: 28665 entries, 0 to 29450\n",
      "Data columns (total 10 columns):\n",
      " #   Column                 Non-Null Count  Dtype  \n",
      "---  ------                 --------------  -----  \n",
      " 0   POSTED_BY              28665 non-null  object \n",
      " 1   UNDER_CONSTRUCTION     28665 non-null  int64  \n",
      " 2   RERA                   28665 non-null  int64  \n",
      " 3   BHK_NO.                28665 non-null  int64  \n",
      " 4   BHK_OR_RK              28665 non-null  object \n",
      " 5   SQUARE_FT              28665 non-null  float64\n",
      " 6   READY_TO_MOVE          28665 non-null  int64  \n",
      " 7   RESALE                 28665 non-null  int64  \n",
      " 8   TARGET(PRICE_IN_LACS)  28665 non-null  float64\n",
      " 9   city_category          28665 non-null  object \n",
      "dtypes: float64(2), int64(5), object(3)\n",
      "memory usage: 2.4+ MB\n"
     ]
    }
   ],
   "source": [
    "datacl.info()"
   ]
  },
  {
   "cell_type": "code",
   "execution_count": 81,
   "id": "76657aed",
   "metadata": {},
   "outputs": [
    {
     "name": "stdout",
     "output_type": "stream",
     "text": [
      "['POSTED_BY', 'BHK_OR_RK', 'city_category']\n",
      "['UNDER_CONSTRUCTION', 'RERA', 'BHK_NO.', 'SQUARE_FT', 'READY_TO_MOVE', 'RESALE']\n"
     ]
    }
   ],
   "source": [
    "category_columns=[]\n",
    "numerical_columns=[]\n",
    "for i in datacl.columns:\n",
    "    if i!='TARGET(PRICE_IN_LACS)':\n",
    "        if datacl[i].dtype=='O':\n",
    "            category_columns.append(i)\n",
    "        else:\n",
    "            numerical_columns.append(i)\n",
    "print(category_columns)\n",
    "print(numerical_columns)"
   ]
  },
  {
   "cell_type": "code",
   "execution_count": 83,
   "id": "f6103139",
   "metadata": {},
   "outputs": [],
   "source": [
    "train_data=datacl.drop('TARGET(PRICE_IN_LACS)',axis=1)\n",
    "test_data=datacl['TARGET(PRICE_IN_LACS)']"
   ]
  },
  {
   "cell_type": "code",
   "execution_count": 84,
   "id": "4df229a7",
   "metadata": {},
   "outputs": [
    {
     "data": {
      "image/png": "[encoded data removed]",
      "text/plain": [
       "<Figure size 720x360 with 2 Axes>"
      ]
     },
     "metadata": {
      "needs_background": "light"
     },
     "output_type": "display_data"
    }
   ],
   "source": [
    "plt.figure(figsize=(10,5))\n",
    "sb.heatmap(train_data[numerical_columns].corr(method='spearman'),annot=True)\n",
    "plt.show()"
   ]
  },
  {
   "cell_type": "markdown",
   "id": "189fcd82",
   "metadata": {},
   "source": [
    "UNDER_CONSTRUCTION and READY_TO_MOVE are same,.\n",
    "BHK_NO. and SQUARE_FT are having correlation."
   ]
  },
  {
   "cell_type": "code",
   "execution_count": 27,
   "id": "06d8bcc8",
   "metadata": {},
   "outputs": [
    {
     "name": "stdout",
     "output_type": "stream",
     "text": [
      "object\n",
      "int64\n"
     ]
    }
   ],
   "source": [
    "train_data.dtypes.reset_index()\n",
    "print(train_data['POSTED_BY'].dtype)\n",
    "print(train_data['RERA'].dtype)"
   ]
  },
  {
   "cell_type": "code",
   "execution_count": 28,
   "id": "f1375b99",
   "metadata": {},
   "outputs": [],
   "source": [
    "train_dummies=train_data\n",
    "for i in train_data.columns:\n",
    "    if train_data[i].dtype=='object':\n",
    "        data_dummy=pd.get_dummies(train_data[i],drop_first=True)\n",
    "        train_dummies=pd.concat([train_dummies,data_dummy],axis=1)"
   ]
  },
  {
   "cell_type": "code",
   "execution_count": 29,
   "id": "93595ea1",
   "metadata": {},
   "outputs": [
    {
     "data": {
      "text/html": [
       "<div>\n",
       "<style scoped>\n",
       "    .dataframe tbody tr th:only-of-type {\n",
       "        vertical-align: middle;\n",
       "    }\n",
       "\n",
       "    .dataframe tbody tr th {\n",
       "        vertical-align: top;\n",
       "    }\n",
       "\n",
       "    .dataframe thead th {\n",
       "        text-align: right;\n",
       "    }\n",
       "</style>\n",
       "<table border=\"1\" class=\"dataframe\">\n",
       "  <thead>\n",
       "    <tr style=\"text-align: right;\">\n",
       "      <th></th>\n",
       "      <th>POSTED_BY</th>\n",
       "      <th>UNDER_CONSTRUCTION</th>\n",
       "      <th>RERA</th>\n",
       "      <th>BHK_NO.</th>\n",
       "      <th>BHK_OR_RK</th>\n",
       "      <th>SQUARE_FT</th>\n",
       "      <th>READY_TO_MOVE</th>\n",
       "      <th>RESALE</th>\n",
       "      <th>Dealer</th>\n",
       "      <th>Owner</th>\n",
       "      <th>RK</th>\n",
       "    </tr>\n",
       "  </thead>\n",
       "  <tbody>\n",
       "    <tr>\n",
       "      <th>0</th>\n",
       "      <td>Owner</td>\n",
       "      <td>0</td>\n",
       "      <td>0</td>\n",
       "      <td>2</td>\n",
       "      <td>BHK</td>\n",
       "      <td>1300.236407</td>\n",
       "      <td>1</td>\n",
       "      <td>1</td>\n",
       "      <td>0</td>\n",
       "      <td>1</td>\n",
       "      <td>0</td>\n",
       "    </tr>\n",
       "    <tr>\n",
       "      <th>1</th>\n",
       "      <td>Dealer</td>\n",
       "      <td>0</td>\n",
       "      <td>0</td>\n",
       "      <td>2</td>\n",
       "      <td>BHK</td>\n",
       "      <td>1275.000000</td>\n",
       "      <td>1</td>\n",
       "      <td>1</td>\n",
       "      <td>1</td>\n",
       "      <td>0</td>\n",
       "      <td>0</td>\n",
       "    </tr>\n",
       "    <tr>\n",
       "      <th>2</th>\n",
       "      <td>Owner</td>\n",
       "      <td>0</td>\n",
       "      <td>0</td>\n",
       "      <td>2</td>\n",
       "      <td>BHK</td>\n",
       "      <td>933.159722</td>\n",
       "      <td>1</td>\n",
       "      <td>1</td>\n",
       "      <td>0</td>\n",
       "      <td>1</td>\n",
       "      <td>0</td>\n",
       "    </tr>\n",
       "    <tr>\n",
       "      <th>3</th>\n",
       "      <td>Owner</td>\n",
       "      <td>0</td>\n",
       "      <td>1</td>\n",
       "      <td>2</td>\n",
       "      <td>BHK</td>\n",
       "      <td>929.921143</td>\n",
       "      <td>1</td>\n",
       "      <td>1</td>\n",
       "      <td>0</td>\n",
       "      <td>1</td>\n",
       "      <td>0</td>\n",
       "    </tr>\n",
       "    <tr>\n",
       "      <th>4</th>\n",
       "      <td>Dealer</td>\n",
       "      <td>1</td>\n",
       "      <td>0</td>\n",
       "      <td>2</td>\n",
       "      <td>BHK</td>\n",
       "      <td>999.009247</td>\n",
       "      <td>0</td>\n",
       "      <td>1</td>\n",
       "      <td>1</td>\n",
       "      <td>0</td>\n",
       "      <td>0</td>\n",
       "    </tr>\n",
       "    <tr>\n",
       "      <th>...</th>\n",
       "      <td>...</td>\n",
       "      <td>...</td>\n",
       "      <td>...</td>\n",
       "      <td>...</td>\n",
       "      <td>...</td>\n",
       "      <td>...</td>\n",
       "      <td>...</td>\n",
       "      <td>...</td>\n",
       "      <td>...</td>\n",
       "      <td>...</td>\n",
       "      <td>...</td>\n",
       "    </tr>\n",
       "    <tr>\n",
       "      <th>29446</th>\n",
       "      <td>Owner</td>\n",
       "      <td>0</td>\n",
       "      <td>0</td>\n",
       "      <td>3</td>\n",
       "      <td>BHK</td>\n",
       "      <td>2500.000000</td>\n",
       "      <td>1</td>\n",
       "      <td>1</td>\n",
       "      <td>0</td>\n",
       "      <td>1</td>\n",
       "      <td>0</td>\n",
       "    </tr>\n",
       "    <tr>\n",
       "      <th>29447</th>\n",
       "      <td>Owner</td>\n",
       "      <td>0</td>\n",
       "      <td>0</td>\n",
       "      <td>2</td>\n",
       "      <td>BHK</td>\n",
       "      <td>769.230769</td>\n",
       "      <td>1</td>\n",
       "      <td>1</td>\n",
       "      <td>0</td>\n",
       "      <td>1</td>\n",
       "      <td>0</td>\n",
       "    </tr>\n",
       "    <tr>\n",
       "      <th>29448</th>\n",
       "      <td>Dealer</td>\n",
       "      <td>0</td>\n",
       "      <td>0</td>\n",
       "      <td>2</td>\n",
       "      <td>BHK</td>\n",
       "      <td>1022.641509</td>\n",
       "      <td>1</td>\n",
       "      <td>1</td>\n",
       "      <td>1</td>\n",
       "      <td>0</td>\n",
       "      <td>0</td>\n",
       "    </tr>\n",
       "    <tr>\n",
       "      <th>29449</th>\n",
       "      <td>Owner</td>\n",
       "      <td>0</td>\n",
       "      <td>0</td>\n",
       "      <td>2</td>\n",
       "      <td>BHK</td>\n",
       "      <td>927.079009</td>\n",
       "      <td>1</td>\n",
       "      <td>1</td>\n",
       "      <td>0</td>\n",
       "      <td>1</td>\n",
       "      <td>0</td>\n",
       "    </tr>\n",
       "    <tr>\n",
       "      <th>29450</th>\n",
       "      <td>Dealer</td>\n",
       "      <td>0</td>\n",
       "      <td>1</td>\n",
       "      <td>2</td>\n",
       "      <td>BHK</td>\n",
       "      <td>896.774194</td>\n",
       "      <td>1</td>\n",
       "      <td>1</td>\n",
       "      <td>1</td>\n",
       "      <td>0</td>\n",
       "      <td>0</td>\n",
       "    </tr>\n",
       "  </tbody>\n",
       "</table>\n",
       "<p>28665 rows × 11 columns</p>\n",
       "</div>"
      ],
      "text/plain": [
       "      POSTED_BY  UNDER_CONSTRUCTION  RERA  BHK_NO. BHK_OR_RK    SQUARE_FT  \\\n",
       "0         Owner                   0     0        2       BHK  1300.236407   \n",
       "1        Dealer                   0     0        2       BHK  1275.000000   \n",
       "2         Owner                   0     0        2       BHK   933.159722   \n",
       "3         Owner                   0     1        2       BHK   929.921143   \n",
       "4        Dealer                   1     0        2       BHK   999.009247   \n",
       "...         ...                 ...   ...      ...       ...          ...   \n",
       "29446     Owner                   0     0        3       BHK  2500.000000   \n",
       "29447     Owner                   0     0        2       BHK   769.230769   \n",
       "29448    Dealer                   0     0        2       BHK  1022.641509   \n",
       "29449     Owner                   0     0        2       BHK   927.079009   \n",
       "29450    Dealer                   0     1        2       BHK   896.774194   \n",
       "\n",
       "       READY_TO_MOVE  RESALE  Dealer  Owner  RK  \n",
       "0                  1       1       0      1   0  \n",
       "1                  1       1       1      0   0  \n",
       "2                  1       1       0      1   0  \n",
       "3                  1       1       0      1   0  \n",
       "4                  0       1       1      0   0  \n",
       "...              ...     ...     ...    ...  ..  \n",
       "29446              1       1       0      1   0  \n",
       "29447              1       1       0      1   0  \n",
       "29448              1       1       1      0   0  \n",
       "29449              1       1       0      1   0  \n",
       "29450              1       1       1      0   0  \n",
       "\n",
       "[28665 rows x 11 columns]"
      ]
     },
     "execution_count": 29,
     "metadata": {},
     "output_type": "execute_result"
    }
   ],
   "source": [
    "train_dummies"
   ]
  },
  {
   "cell_type": "markdown",
   "id": "c6c4b034",
   "metadata": {},
   "source": [
    "As we created dummies for POSTED_BY, BHK_OR_RK columns, we can drop them."
   ]
  },
  {
   "cell_type": "code",
   "execution_count": 30,
   "id": "02c9084a",
   "metadata": {},
   "outputs": [],
   "source": [
    "train_dummies.drop(['POSTED_BY','BHK_OR_RK'],axis=1,inplace=True)"
   ]
  },
  {
   "cell_type": "code",
   "execution_count": 31,
   "id": "21d27edc",
   "metadata": {},
   "outputs": [
    {
     "data": {
      "text/html": [
       "<div>\n",
       "<style scoped>\n",
       "    .dataframe tbody tr th:only-of-type {\n",
       "        vertical-align: middle;\n",
       "    }\n",
       "\n",
       "    .dataframe tbody tr th {\n",
       "        vertical-align: top;\n",
       "    }\n",
       "\n",
       "    .dataframe thead th {\n",
       "        text-align: right;\n",
       "    }\n",
       "</style>\n",
       "<table border=\"1\" class=\"dataframe\">\n",
       "  <thead>\n",
       "    <tr style=\"text-align: right;\">\n",
       "      <th></th>\n",
       "      <th>UNDER_CONSTRUCTION</th>\n",
       "      <th>RERA</th>\n",
       "      <th>BHK_NO.</th>\n",
       "      <th>SQUARE_FT</th>\n",
       "      <th>READY_TO_MOVE</th>\n",
       "      <th>RESALE</th>\n",
       "      <th>Dealer</th>\n",
       "      <th>Owner</th>\n",
       "      <th>RK</th>\n",
       "    </tr>\n",
       "  </thead>\n",
       "  <tbody>\n",
       "    <tr>\n",
       "      <th>0</th>\n",
       "      <td>0</td>\n",
       "      <td>0</td>\n",
       "      <td>2</td>\n",
       "      <td>1300.236407</td>\n",
       "      <td>1</td>\n",
       "      <td>1</td>\n",
       "      <td>0</td>\n",
       "      <td>1</td>\n",
       "      <td>0</td>\n",
       "    </tr>\n",
       "    <tr>\n",
       "      <th>1</th>\n",
       "      <td>0</td>\n",
       "      <td>0</td>\n",
       "      <td>2</td>\n",
       "      <td>1275.000000</td>\n",
       "      <td>1</td>\n",
       "      <td>1</td>\n",
       "      <td>1</td>\n",
       "      <td>0</td>\n",
       "      <td>0</td>\n",
       "    </tr>\n",
       "    <tr>\n",
       "      <th>2</th>\n",
       "      <td>0</td>\n",
       "      <td>0</td>\n",
       "      <td>2</td>\n",
       "      <td>933.159722</td>\n",
       "      <td>1</td>\n",
       "      <td>1</td>\n",
       "      <td>0</td>\n",
       "      <td>1</td>\n",
       "      <td>0</td>\n",
       "    </tr>\n",
       "    <tr>\n",
       "      <th>3</th>\n",
       "      <td>0</td>\n",
       "      <td>1</td>\n",
       "      <td>2</td>\n",
       "      <td>929.921143</td>\n",
       "      <td>1</td>\n",
       "      <td>1</td>\n",
       "      <td>0</td>\n",
       "      <td>1</td>\n",
       "      <td>0</td>\n",
       "    </tr>\n",
       "    <tr>\n",
       "      <th>4</th>\n",
       "      <td>1</td>\n",
       "      <td>0</td>\n",
       "      <td>2</td>\n",
       "      <td>999.009247</td>\n",
       "      <td>0</td>\n",
       "      <td>1</td>\n",
       "      <td>1</td>\n",
       "      <td>0</td>\n",
       "      <td>0</td>\n",
       "    </tr>\n",
       "    <tr>\n",
       "      <th>...</th>\n",
       "      <td>...</td>\n",
       "      <td>...</td>\n",
       "      <td>...</td>\n",
       "      <td>...</td>\n",
       "      <td>...</td>\n",
       "      <td>...</td>\n",
       "      <td>...</td>\n",
       "      <td>...</td>\n",
       "      <td>...</td>\n",
       "    </tr>\n",
       "    <tr>\n",
       "      <th>29446</th>\n",
       "      <td>0</td>\n",
       "      <td>0</td>\n",
       "      <td>3</td>\n",
       "      <td>2500.000000</td>\n",
       "      <td>1</td>\n",
       "      <td>1</td>\n",
       "      <td>0</td>\n",
       "      <td>1</td>\n",
       "      <td>0</td>\n",
       "    </tr>\n",
       "    <tr>\n",
       "      <th>29447</th>\n",
       "      <td>0</td>\n",
       "      <td>0</td>\n",
       "      <td>2</td>\n",
       "      <td>769.230769</td>\n",
       "      <td>1</td>\n",
       "      <td>1</td>\n",
       "      <td>0</td>\n",
       "      <td>1</td>\n",
       "      <td>0</td>\n",
       "    </tr>\n",
       "    <tr>\n",
       "      <th>29448</th>\n",
       "      <td>0</td>\n",
       "      <td>0</td>\n",
       "      <td>2</td>\n",
       "      <td>1022.641509</td>\n",
       "      <td>1</td>\n",
       "      <td>1</td>\n",
       "      <td>1</td>\n",
       "      <td>0</td>\n",
       "      <td>0</td>\n",
       "    </tr>\n",
       "    <tr>\n",
       "      <th>29449</th>\n",
       "      <td>0</td>\n",
       "      <td>0</td>\n",
       "      <td>2</td>\n",
       "      <td>927.079009</td>\n",
       "      <td>1</td>\n",
       "      <td>1</td>\n",
       "      <td>0</td>\n",
       "      <td>1</td>\n",
       "      <td>0</td>\n",
       "    </tr>\n",
       "    <tr>\n",
       "      <th>29450</th>\n",
       "      <td>0</td>\n",
       "      <td>1</td>\n",
       "      <td>2</td>\n",
       "      <td>896.774194</td>\n",
       "      <td>1</td>\n",
       "      <td>1</td>\n",
       "      <td>1</td>\n",
       "      <td>0</td>\n",
       "      <td>0</td>\n",
       "    </tr>\n",
       "  </tbody>\n",
       "</table>\n",
       "<p>28665 rows × 9 columns</p>\n",
       "</div>"
      ],
      "text/plain": [
       "       UNDER_CONSTRUCTION  RERA  BHK_NO.    SQUARE_FT  READY_TO_MOVE  RESALE  \\\n",
       "0                       0     0        2  1300.236407              1       1   \n",
       "1                       0     0        2  1275.000000              1       1   \n",
       "2                       0     0        2   933.159722              1       1   \n",
       "3                       0     1        2   929.921143              1       1   \n",
       "4                       1     0        2   999.009247              0       1   \n",
       "...                   ...   ...      ...          ...            ...     ...   \n",
       "29446                   0     0        3  2500.000000              1       1   \n",
       "29447                   0     0        2   769.230769              1       1   \n",
       "29448                   0     0        2  1022.641509              1       1   \n",
       "29449                   0     0        2   927.079009              1       1   \n",
       "29450                   0     1        2   896.774194              1       1   \n",
       "\n",
       "       Dealer  Owner  RK  \n",
       "0           0      1   0  \n",
       "1           1      0   0  \n",
       "2           0      1   0  \n",
       "3           0      1   0  \n",
       "4           1      0   0  \n",
       "...       ...    ...  ..  \n",
       "29446       0      1   0  \n",
       "29447       0      1   0  \n",
       "29448       1      0   0  \n",
       "29449       0      1   0  \n",
       "29450       1      0   0  \n",
       "\n",
       "[28665 rows x 9 columns]"
      ]
     },
     "execution_count": 31,
     "metadata": {},
     "output_type": "execute_result"
    }
   ],
   "source": [
    "train_dummies"
   ]
  },
  {
   "cell_type": "markdown",
   "id": "5cf023a4",
   "metadata": {},
   "source": [
    "Standardization as square_ft is in thousand values and others are less than 100."
   ]
  },
  {
   "cell_type": "code",
   "execution_count": 32,
   "id": "03d1fbb3",
   "metadata": {},
   "outputs": [
    {
     "name": "stdout",
     "output_type": "stream",
     "text": [
      "Requirement already satisfied: sklearn in c:\\users\\ramsa\\anaconda3\\envs\\hpp\\lib\\site-packages (0.0)\n",
      "Requirement already satisfied: scikit-learn in c:\\users\\ramsa\\anaconda3\\envs\\hpp\\lib\\site-packages (from sklearn) (0.24.2)\n",
      "Requirement already satisfied: numpy>=1.13.3 in c:\\users\\ramsa\\anaconda3\\envs\\hpp\\lib\\site-packages (from scikit-learn->sklearn) (1.20.3)\n",
      "Requirement already satisfied: threadpoolctl>=2.0.0 in c:\\users\\ramsa\\anaconda3\\envs\\hpp\\lib\\site-packages (from scikit-learn->sklearn) (2.1.0)\n",
      "Requirement already satisfied: scipy>=0.19.1 in c:\\users\\ramsa\\anaconda3\\envs\\hpp\\lib\\site-packages (from scikit-learn->sklearn) (1.6.3)\n",
      "Requirement already satisfied: joblib>=0.11 in c:\\users\\ramsa\\anaconda3\\envs\\hpp\\lib\\site-packages (from scikit-learn->sklearn) (1.0.1)\n"
     ]
    }
   ],
   "source": [
    "!pip install sklearn\n",
    "from sklearn.preprocessing import StandardScaler"
   ]
  },
  {
   "cell_type": "code",
   "execution_count": 33,
   "id": "718da01f",
   "metadata": {},
   "outputs": [],
   "source": [
    "s=StandardScaler()"
   ]
  },
  {
   "cell_type": "code",
   "execution_count": 34,
   "id": "3713e5d2",
   "metadata": {},
   "outputs": [
    {
     "data": {
      "text/plain": [
       "StandardScaler()"
      ]
     },
     "execution_count": 34,
     "metadata": {},
     "output_type": "execute_result"
    }
   ],
   "source": [
    "s.fit(train_dummies)"
   ]
  },
  {
   "cell_type": "code",
   "execution_count": 35,
   "id": "2dc7dc27",
   "metadata": {},
   "outputs": [],
   "source": [
    "train_standard=s.transform(train_dummies)"
   ]
  },
  {
   "cell_type": "code",
   "execution_count": 37,
   "id": "f89f95fd",
   "metadata": {},
   "outputs": [],
   "source": [
    "from sklearn.model_selection import train_test_split\n",
    "from sklearn.linear_model import LinearRegression"
   ]
  },
  {
   "cell_type": "code",
   "execution_count": 38,
   "id": "929909fa",
   "metadata": {},
   "outputs": [],
   "source": [
    "x_train,x_test,y_train,y_test=train_test_split(train_standard,test_data,test_size=0.3)"
   ]
  },
  {
   "cell_type": "code",
   "execution_count": 39,
   "id": "7c89389e",
   "metadata": {},
   "outputs": [
    {
     "data": {
      "text/plain": [
       "6012      79.0\n",
       "16295     58.0\n",
       "5230     260.0\n",
       "26209    180.0\n",
       "7432     100.0\n",
       "         ...  \n",
       "7628      32.0\n",
       "2674      67.5\n",
       "22605     99.1\n",
       "19702     30.0\n",
       "14879     77.5\n",
       "Name: TARGET(PRICE_IN_LACS), Length: 20065, dtype: float64"
      ]
     },
     "execution_count": 39,
     "metadata": {},
     "output_type": "execute_result"
    }
   ],
   "source": [
    "y_train"
   ]
  },
  {
   "cell_type": "code",
   "execution_count": 40,
   "id": "f1c3f1e8",
   "metadata": {},
   "outputs": [],
   "source": [
    "lr=LinearRegression()"
   ]
  },
  {
   "cell_type": "code",
   "execution_count": 41,
   "id": "4b0aeb01",
   "metadata": {},
   "outputs": [
    {
     "data": {
      "text/plain": [
       "LinearRegression()"
      ]
     },
     "execution_count": 41,
     "metadata": {},
     "output_type": "execute_result"
    }
   ],
   "source": [
    "lr.fit(x_train,y_train)"
   ]
  },
  {
   "cell_type": "code",
   "execution_count": 42,
   "id": "cf4c382f",
   "metadata": {},
   "outputs": [
    {
     "data": {
      "text/plain": [
       "(array([ 1.10675422e+14,  5.06250000e+00,  7.26118164e+01,  2.48381378e+02,\n",
       "         1.10675422e+14, -2.06558594e+02,  3.24902344e+02,  2.90353516e+02,\n",
       "         6.76940918e-01]),\n",
       " 146.0071611887954)"
      ]
     },
     "execution_count": 42,
     "metadata": {},
     "output_type": "execute_result"
    }
   ],
   "source": [
    "lr.coef_,lr.intercept_"
   ]
  },
  {
   "cell_type": "code",
   "execution_count": 43,
   "id": "0755cf57",
   "metadata": {},
   "outputs": [],
   "source": [
    "pred=lr.predict(x_test)"
   ]
  },
  {
   "cell_type": "code",
   "execution_count": 44,
   "id": "78111bd1",
   "metadata": {},
   "outputs": [
    {
     "data": {
      "text/plain": [
       "0.21737853828019105"
      ]
     },
     "execution_count": 44,
     "metadata": {},
     "output_type": "execute_result"
    }
   ],
   "source": [
    "lr.score(x_train,y_train)"
   ]
  },
  {
   "cell_type": "code",
   "execution_count": null,
   "id": "7110fa00",
   "metadata": {},
   "outputs": [],
   "source": []
  }
 ],
 "metadata": {
  "kernelspec": {
   "display_name": "Python 3",
   "language": "python",
   "name": "python3"
  },
  "language_info": {
   "codemirror_mode": {
    "name": "ipython",
    "version": 3
   },
   "file_extension": ".py",
   "mimetype": "text/x-python",
   "name": "python",
   "nbconvert_exporter": "python",
   "pygments_lexer": "ipython3",
   "version": "3.9.5"
  }
 },
 "nbformat": 4,
 "nbformat_minor": 5
}
